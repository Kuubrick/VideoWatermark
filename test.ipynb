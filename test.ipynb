{
 "cells": [
  {
   "cell_type": "code",
   "execution_count": 1,
   "metadata": {},
   "outputs": [],
   "source": [
    "li_no_w=[]\n",
    "li_w=[]"
   ]
  },
  {
   "cell_type": "code",
   "execution_count": 2,
   "metadata": {},
   "outputs": [],
   "source": [
    "import cv2\n",
    "\n",
    "# 打开第一个视频文件\n",
    "no = cv2.VideoCapture('no.mp4')\n",
    "\n",
    "# 获取第一个视频的帧数\n",
    "total_frames1 = int(no.get(cv2.CAP_PROP_FRAME_COUNT))\n",
    "\n",
    "# 循环读取每一帧并保存\n",
    "for i in range(total_frames1):\n",
    "    ret, frame = no.read()\n",
    "    if ret:\n",
    "        li_no_w.append(frame)\n",
    "    else:\n",
    "        break\n",
    "\n",
    "# 释放第一个视频\n",
    "no.release()\n",
    "\n",
    "# 打开第二个视频文件\n",
    "w = cv2.VideoCapture('w.mp4')\n",
    "\n",
    "# 获取第二个视频的帧数\n",
    "total_frames2 = int(w.get(cv2.CAP_PROP_FRAME_COUNT))\n",
    "\n",
    "# 循环读取每一帧并保存\n",
    "for i in range(total_frames2):\n",
    "    ret, frame = w.read()\n",
    "    if ret:\n",
    "        li_w.append(frame)\n",
    "    else:\n",
    "        break\n",
    "\n",
    "# 释放第二个视频\n",
    "w.release()"
   ]
  },
  {
   "cell_type": "code",
   "execution_count": 3,
   "metadata": {},
   "outputs": [
    {
     "name": "stderr",
     "output_type": "stream",
     "text": [
      "/root/miniconda3/envs/integrate/lib/python3.9/site-packages/tqdm/auto.py:22: TqdmWarning: IProgress not found. Please update jupyter and ipywidgets. See https://ipywidgets.readthedocs.io/en/stable/user_install.html\n",
      "  from .autonotebook import tqdm as notebook_tqdm\n"
     ]
    }
   ],
   "source": [
    "import subprocess\n",
    "import os\n",
    "\n",
    "result = subprocess.run('bash -c \"source /etc/network_turbo && env | grep proxy\"', shell=True, capture_output=True, text=True)\n",
    "output = result.stdout\n",
    "for line in output.splitlines():\n",
    "    if '=' in line:\n",
    "        var, value = line.split('=', 1)\n",
    "        os.environ[var] = value\n",
    "import argparse\n",
    "import copy\n",
    "from tqdm import tqdm\n",
    "from statistics import mean, stdev\n",
    "from sklearn import metrics\n",
    "\n",
    "import torch\n",
    "from diffusers import DPMSolverMultistepScheduler\n",
    "from tree_ring.inverse_stable_diffusion import InversableStableDiffusionPipeline\n",
    "import open_clip\n",
    "from tree_ring.optim_utils import *\n",
    "from tree_ring.io_utils import *\n",
    "import re\n",
    "device = 'cuda' if torch.cuda.is_available() else 'cpu'"
   ]
  },
  {
   "cell_type": "code",
   "execution_count": 4,
   "metadata": {},
   "outputs": [],
   "source": [
    "parser = argparse.ArgumentParser(description='diffusion watermark')\n",
    "parser.add_argument('--model_id', default='/root/.cache/huggingface/diffusers/models--stabilityai--stable-diffusion-2-1-base/snapshots/5ede9e4bf3e3fd1cb0ef2f7a3fff13ee514fdf06/')\n",
    "parser.add_argument('--test_num_inference_steps', default=None, type=int)\n",
    "parser.add_argument('--num_inference_steps', default=50, type=int)\n",
    "\n",
    "# watermark\n",
    "parser.add_argument('--w_mask_shape', default='circle')\n",
    "\n",
    "parser.add_argument('--w_measurement', default='l1_complex')\n",
    "parser.add_argument('--w_radius', default=10)\n",
    "parser.add_argument('--w_channel', default=0, type=int)\n",
    "\n",
    "\n",
    "# for image distortion\n",
    "args = parser.parse_args([])\n",
    "\n",
    "if args.test_num_inference_steps is None:\n",
    "    args.test_num_inference_steps = args.num_inference_steps"
   ]
  },
  {
   "cell_type": "code",
   "execution_count": 5,
   "metadata": {},
   "outputs": [
    {
     "name": "stderr",
     "output_type": "stream",
     "text": [
      "/root/miniconda3/envs/integrate/lib/python3.9/site-packages/transformers/modeling_utils.py:402: UserWarning: TypedStorage is deprecated. It will be removed in the future and UntypedStorage will be the only storage class. This should only matter to you if you are using storages directly.  To access UntypedStorage directly, use tensor.untyped_storage() instead of tensor.storage()\n",
      "  with safe_open(checkpoint_file, framework=\"pt\") as f:\n"
     ]
    }
   ],
   "source": [
    "scheduler = DPMSolverMultistepScheduler.from_pretrained(args.model_id, subfolder='scheduler')\n",
    "pipe = InversableStableDiffusionPipeline.from_pretrained(\n",
    "    args.model_id,\n",
    "    scheduler=scheduler,\n",
    "    torch_dtype=torch.float16,\n",
    "    revision='fp16',\n",
    "    )\n",
    "pipe = pipe.to(device)"
   ]
  },
  {
   "cell_type": "code",
   "execution_count": 6,
   "metadata": {},
   "outputs": [
    {
     "name": "stderr",
     "output_type": "stream",
     "text": [
      "/tmp/ipykernel_1481505/301511426.py:5: UserWarning: ComplexHalf support is experimental and many operators don't support it yet. (Triggered internally at ../aten/src/ATen/EmptyTensor.cpp:31.)\n",
      "  gt_patch = torch.load('./tree_ring/key.pt').to(dtype=torch.complex32)\n"
     ]
    }
   ],
   "source": [
    "tester_prompt = '' # assume at the detection time, the original prompt is unknown\n",
    "text_embeddings = pipe.get_text_embedding(tester_prompt)\n",
    "\n",
    "# ground-truth patch\n",
    "gt_patch = torch.load('./tree_ring/key.pt').to(dtype=torch.complex32)\n",
    "init_latents_w = pipe.get_random_latents()\n",
    "watermarking_mask = get_watermarking_mask(init_latents_w, args, device)\n",
    "no_w_metrics=[]\n",
    "w_metrics=[]"
   ]
  },
  {
   "cell_type": "code",
   "execution_count": 7,
   "metadata": {},
   "outputs": [
    {
     "name": "stderr",
     "output_type": "stream",
     "text": [
      "100%|██████████| 10/10 [00:00<00:00, 40.14it/s]\n",
      "100%|██████████| 10/10 [00:00<00:00, 55.89it/s]\n",
      "100%|██████████| 10/10 [00:00<00:00, 54.89it/s]\n",
      "100%|██████████| 10/10 [00:00<00:00, 56.03it/s]\n",
      "100%|██████████| 10/10 [00:00<00:00, 56.25it/s]\n",
      "100%|██████████| 10/10 [00:00<00:00, 56.08it/s]\n",
      "100%|██████████| 10/10 [00:00<00:00, 52.30it/s]\n",
      "100%|██████████| 10/10 [00:00<00:00, 49.13it/s]\n",
      "100%|██████████| 10/10 [00:00<00:00, 52.63it/s]\n",
      "100%|██████████| 10/10 [00:00<00:00, 56.42it/s]\n",
      "100%|██████████| 10/10 [00:00<00:00, 56.48it/s]\n",
      "100%|██████████| 10/10 [00:00<00:00, 56.28it/s]\n",
      "100%|██████████| 10/10 [00:00<00:00, 56.39it/s]\n",
      "100%|██████████| 10/10 [00:00<00:00, 56.75it/s]\n",
      "100%|██████████| 10/10 [00:00<00:00, 55.76it/s]\n",
      "100%|██████████| 10/10 [00:00<00:00, 54.70it/s]\n",
      "100%|██████████| 10/10 [00:00<00:00, 54.55it/s]\n",
      "100%|██████████| 10/10 [00:00<00:00, 45.49it/s]\n",
      "100%|██████████| 10/10 [00:00<00:00, 52.70it/s]\n",
      "100%|██████████| 10/10 [00:00<00:00, 56.86it/s]\n",
      "100%|██████████| 10/10 [00:00<00:00, 56.07it/s]\n",
      "100%|██████████| 10/10 [00:00<00:00, 55.58it/s]\n",
      "100%|██████████| 10/10 [00:00<00:00, 56.44it/s]\n",
      "100%|██████████| 10/10 [00:00<00:00, 56.41it/s]\n",
      "100%|██████████| 10/10 [00:00<00:00, 53.16it/s]\n",
      "100%|██████████| 10/10 [00:00<00:00, 51.71it/s]\n",
      "100%|██████████| 10/10 [00:00<00:00, 55.88it/s]\n",
      "100%|██████████| 10/10 [00:00<00:00, 55.33it/s]\n",
      "100%|██████████| 10/10 [00:00<00:00, 56.33it/s]\n",
      "100%|██████████| 10/10 [00:00<00:00, 56.54it/s]\n",
      "100%|██████████| 10/10 [00:00<00:00, 54.30it/s]\n",
      "100%|██████████| 10/10 [00:00<00:00, 54.58it/s]\n"
     ]
    }
   ],
   "source": [
    "from PIL import Image\n",
    "for idx in range(16):\n",
    "    img_no_w = Image.fromarray(li_no_w[idx])\n",
    "    img_w = Image.fromarray(li_w[idx])\n",
    "    \n",
    "    img_no_w = transform_img(img_no_w).unsqueeze(0).to(text_embeddings.dtype).to(device)\n",
    "    img_w = transform_img(img_w).unsqueeze(0).to(text_embeddings.dtype).to(device)\n",
    "    \n",
    "    image_latents_no_w = pipe.get_image_latents(img_no_w, sample=False)\n",
    "    image_latents_w = pipe.get_image_latents(img_w, sample=False)\n",
    "    \n",
    "    reversed_latents_no_w = pipe.forward_diffusion(\n",
    "    latents=image_latents_no_w,\n",
    "    text_embeddings=text_embeddings,\n",
    "    guidance_scale=1,\n",
    "    num_inference_steps=10,\n",
    "    )\n",
    "\n",
    "    reversed_latents_w = pipe.forward_diffusion(\n",
    "    latents=image_latents_w,\n",
    "    text_embeddings=text_embeddings,\n",
    "    guidance_scale=1,\n",
    "    num_inference_steps=10,\n",
    "    )\n",
    "    no_w_metric, w_metric = eval_watermark(reversed_latents_no_w, reversed_latents_w, watermarking_mask, gt_patch, args)\n",
    "    no_w_metrics.append(-no_w_metric)\n",
    "    w_metrics.append(-w_metric)\n"
   ]
  },
  {
   "cell_type": "code",
   "execution_count": 8,
   "metadata": {},
   "outputs": [
    {
     "name": "stdout",
     "output_type": "stream",
     "text": [
      "-68.75 -70.75\n",
      "-75.125 -69.625\n",
      "-67.875 -70.6875\n",
      "-70.0625 -70.125\n",
      "-70.375 -72.1875\n",
      "-68.25 -73.0\n",
      "-72.25 -72.1875\n",
      "-76.875 -71.375\n",
      "-71.75 -71.0625\n",
      "-76.1875 -70.875\n",
      "-72.75 -72.875\n",
      "-72.6875 -72.0\n",
      "-73.625 -71.625\n",
      "-73.0 -72.0625\n",
      "-73.25 -73.0625\n",
      "-75.0 -70.3125\n"
     ]
    }
   ],
   "source": [
    "for idx in range(len(no_w_metrics)):\n",
    "    print(no_w_metrics[idx],w_metrics[idx])"
   ]
  },
  {
   "cell_type": "code",
   "execution_count": 9,
   "metadata": {},
   "outputs": [
    {
     "name": "stdout",
     "output_type": "stream",
     "text": [
      "0.71875\n"
     ]
    }
   ],
   "source": [
    "preds = no_w_metrics +  w_metrics\n",
    "t_labels = [0] * len(no_w_metrics) + [1] * len(w_metrics)\n",
    "fpr, tpr, thresholds = metrics.roc_curve(t_labels, preds, pos_label=1)\n",
    "auc = metrics.auc(fpr, tpr)\n",
    "acc = np.max(1 - (fpr + (1 - tpr))/2)\n",
    "low = tpr[np.where(fpr<.01)[0][-1]]\n",
    "print(acc)"
   ]
  },
  {
   "cell_type": "code",
   "execution_count": 10,
   "metadata": {},
   "outputs": [
    {
     "data": {
      "image/png": "[encoded data removed]",
      "text/plain": [
       "<Figure size 800x800 with 1 Axes>"
      ]
     },
     "metadata": {},
     "output_type": "display_data"
    }
   ],
   "source": [
    "import matplotlib.pyplot as plt\n",
    "\n",
    "# Plot ROC curve\n",
    "plt.figure(figsize=(8, 8))\n",
    "plt.plot(fpr, tpr, color='darkorange', lw=2, label=f'AUC = {auc:.2f}')\n",
    "plt.plot([0, 1], [0, 1], color='navy', lw=2, linestyle='--')\n",
    "plt.xlim([0.0, 1.0])\n",
    "plt.ylim([0.0, 1.05])\n",
    "plt.xlabel('False Positive Rate (FPR)')\n",
    "plt.ylabel('True Positive Rate (TPR)')\n",
    "plt.title('Receiver Operating Characteristic (ROC) Curve')\n",
    "plt.legend(loc='lower right')\n",
    "plt.show()"
   ]
  }
 ],
 "metadata": {
  "kernelspec": {
   "display_name": "integrate",
   "language": "python",
   "name": "python3"
  },
  "language_info": {
   "codemirror_mode": {
    "name": "ipython",
    "version": 3
   },
   "file_extension": ".py",
   "mimetype": "text/x-python",
   "name": "python",
   "nbconvert_exporter": "python",
   "pygments_lexer": "ipython3",
   "version": "3.9.18"
  }
 },
 "nbformat": 4,
 "nbformat_minor": 2
}
