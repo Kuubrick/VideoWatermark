{
 "cells": [
  {
   "cell_type": "code",
   "execution_count": null,
   "metadata": {},
   "outputs": [],
   "source": [
    "import torch, os, argparse, json\n",
    "import numpy as np\n",
    "from model import Model"
   ]
  },
  {
   "cell_type": "code",
   "execution_count": null,
   "metadata": {},
   "outputs": [],
   "source": [
    "def read_prompts(prompt_path):\n",
    "    prompts = []\n",
    "    with open(prompt_path, \"r\") as fp:\n",
    "        lines = fp.readlines()\n",
    "        for line in lines:\n",
    "            data = json.loads(line)\n",
    "            prompts.append(data[\"prompt\"])\n",
    "    return prompts"
   ]
  },
  {
   "cell_type": "code",
   "execution_count": null,
   "metadata": {},
   "outputs": [],
   "source": [
    "parser = argparse.ArgumentParser()\n",
    "parser.add_argument(\"--output_root_path\", default=\"tmp_text_to_video_output_videos\")\n",
    "parser.add_argument(\"--model_path\", default=\"stabilityai/stable-diffusion-2-1-base\")\n",
    "parser.add_argument(\"--prompt_path\", default=\"datas/fetv_data.json\")\n",
    "parser.add_argument(\"--seed\", default=42, type=int)\n",
    "parser.add_argument(\"--num_frame\", default=8, type=int)\n",
    "parser.add_argument(\"--fps\", default=8, type=int)\n",
    "parser.add_argument(\"--with_watermark\", default=True, type=bool)\n",
    "parser.add_argument(\"--reference_model\", default=\"ViT-g-14\")\n",
    "parser.add_argument(\"--reference_model_pretrain\", default=\"laion2b_s12b_b42k\")\n",
    "args = parser.parse_args([])"
   ]
  },
  {
   "cell_type": "code",
   "execution_count": null,
   "metadata": {},
   "outputs": [],
   "source": [
    "prompts = read_prompts(args.prompt_path)\n",
    "model = Model(device=\"cuda\", dtype=torch.float16,reference_model=args.reference_model,reference_model_pretrain=args.reference_model_pretrain,)"
   ]
  }
 ],
 "metadata": {
  "kernelspec": {
   "display_name": "integrate",
   "language": "python",
   "name": "python3"
  },
  "language_info": {
   "name": "python",
   "version": "3.9.18"
  }
 },
 "nbformat": 4,
 "nbformat_minor": 2
}
