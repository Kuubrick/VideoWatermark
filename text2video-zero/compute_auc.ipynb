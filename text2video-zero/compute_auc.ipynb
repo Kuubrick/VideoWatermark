{
 "cells": [
  {
   "cell_type": "code",
   "execution_count": 1,
   "metadata": {},
   "outputs": [],
   "source": [
    "import subprocess\n",
    "import os\n",
    "\n",
    "result = subprocess.run('bash -c \"source /etc/network_turbo && env | grep proxy\"', shell=True, capture_output=True, text=True)\n",
    "output = result.stdout\n",
    "for line in output.splitlines():\n",
    "    if '=' in line:\n",
    "        var, value = line.split('=', 1)\n",
    "        os.environ[var] = value"
   ]
  },
  {
   "cell_type": "code",
   "execution_count": 2,
   "metadata": {},
   "outputs": [
    {
     "name": "stderr",
     "output_type": "stream",
     "text": [
      "/root/miniconda3/envs/integrate/lib/python3.9/site-packages/tqdm/auto.py:22: TqdmWarning: IProgress not found. Please update jupyter and ipywidgets. See https://ipywidgets.readthedocs.io/en/stable/user_install.html\n",
      "  from .autonotebook import tqdm as notebook_tqdm\n"
     ]
    }
   ],
   "source": [
    "import argparse\n",
    "import copy\n",
    "from tqdm import tqdm\n",
    "from statistics import mean, stdev\n",
    "from sklearn import metrics\n",
    "\n",
    "import torch\n",
    "from diffusers import DPMSolverMultistepScheduler\n",
    "from tree_ring.inverse_stable_diffusion import InversableStableDiffusionPipeline\n",
    "import open_clip\n",
    "from tree_ring.optim_utils import *\n",
    "from tree_ring.io_utils import *\n",
    "import re\n",
    "device = 'cuda' if torch.cuda.is_available() else 'cpu'\n",
    "def extract_id(string):\n",
    "    match = re.search(r'sent(\\d+)_frames', string)\n",
    "    if match:\n",
    "        return match.group(1)\n",
    "    else:\n",
    "        return None\n"
   ]
  },
  {
   "cell_type": "code",
   "execution_count": 3,
   "metadata": {},
   "outputs": [],
   "source": [
    "parser = argparse.ArgumentParser(description='diffusion watermark')\n",
    "parser.add_argument('--model_id', default='/root/.cache/huggingface/diffusers/models--stabilityai--stable-diffusion-2-1-base/snapshots/5ede9e4bf3e3fd1cb0ef2f7a3fff13ee514fdf06/')\n",
    "parser.add_argument('--test_num_inference_steps', default=None, type=int)\n",
    "parser.add_argument('--num_inference_steps', default=50, type=int)\n",
    "\n",
    "# watermark\n",
    "parser.add_argument('--w_mask_shape', default='circle')\n",
    "\n",
    "parser.add_argument('--w_measurement', default='l1_complex')\n",
    "parser.add_argument('--w_radius', default=10)\n",
    "parser.add_argument('--w_channel', default=0, type=int)\n",
    "\n",
    "\n",
    "# for image distortion\n",
    "\n",
    "parser.add_argument('--orig_img_no_w_path',default='../datas/videos/text2video-zero/static_radius:10/8frames_uniform' ,type=str)\n",
    "parser.add_argument('--orig_img_w_path',default='../datas/videos/text2video-zero/static_radius:10/8frames_uniform_w', type=str)\n",
    "\n",
    "args = parser.parse_args([])\n",
    "\n",
    "if args.test_num_inference_steps is None:\n",
    "    args.test_num_inference_steps = args.num_inference_steps"
   ]
  },
  {
   "cell_type": "code",
   "execution_count": 4,
   "metadata": {},
   "outputs": [
    {
     "name": "stderr",
     "output_type": "stream",
     "text": [
      "/root/miniconda3/envs/integrate/lib/python3.9/site-packages/safetensors/torch.py:98: UserWarning: TypedStorage is deprecated. It will be removed in the future and UntypedStorage will be the only storage class. This should only matter to you if you are using storages directly.  To access UntypedStorage directly, use tensor.untyped_storage() instead of tensor.storage()\n",
      "  with safe_open(filename, framework=\"pt\", device=device) as f:\n"
     ]
    }
   ],
   "source": [
    "scheduler = DPMSolverMultistepScheduler.from_pretrained(args.model_id, subfolder='scheduler')\n",
    "pipe = InversableStableDiffusionPipeline.from_pretrained(\n",
    "    args.model_id,\n",
    "    scheduler=scheduler,\n",
    "    torch_dtype=torch.float16,\n",
    "    revision='fp16',\n",
    "    )\n",
    "pipe = pipe.to(device)"
   ]
  },
  {
   "cell_type": "code",
   "execution_count": 5,
   "metadata": {},
   "outputs": [
    {
     "name": "stderr",
     "output_type": "stream",
     "text": [
      "/tmp/ipykernel_1481243/301511426.py:5: UserWarning: ComplexHalf support is experimental and many operators don't support it yet. (Triggered internally at ../aten/src/ATen/EmptyTensor.cpp:31.)\n",
      "  gt_patch = torch.load('./tree_ring/key.pt').to(dtype=torch.complex32)\n"
     ]
    }
   ],
   "source": [
    "tester_prompt = '' # assume at the detection time, the original prompt is unknown\n",
    "text_embeddings = pipe.get_text_embedding(tester_prompt)\n",
    "\n",
    "# ground-truth patch\n",
    "gt_patch = torch.load('./tree_ring/key.pt').to(dtype=torch.complex32)\n",
    "init_latents_w = pipe.get_random_latents()\n",
    "watermarking_mask = get_watermarking_mask(init_latents_w, args, device)\n",
    "no_w_metrics=[]\n",
    "w_metrics=[]"
   ]
  },
  {
   "cell_type": "code",
   "execution_count": 6,
   "metadata": {},
   "outputs": [
    {
     "name": "stderr",
     "output_type": "stream",
     "text": [
      "100%|██████████| 2/2 [00:00<00:00, 20.81it/s]\n",
      "100%|██████████| 2/2 [00:00<00:00, 54.84it/s]\n",
      "100%|██████████| 2/2 [00:00<00:00, 55.41it/s]\n",
      "100%|██████████| 2/2 [00:00<00:00, 54.78it/s]\n",
      "100%|██████████| 2/2 [00:00<00:00, 56.58it/s]\n",
      "100%|██████████| 2/2 [00:00<00:00, 56.78it/s]\n",
      "100%|██████████| 2/2 [00:00<00:00, 53.24it/s]\n",
      "100%|██████████| 2/2 [00:00<00:00, 56.20it/s]\n",
      "100%|██████████| 2/2 [00:00<00:00, 55.58it/s]\n",
      "100%|██████████| 2/2 [00:00<00:00, 56.57it/s]\n",
      "100%|██████████| 2/2 [00:00<00:00, 54.84it/s]\n",
      "100%|██████████| 2/2 [00:00<00:00, 55.45it/s]\n",
      "100%|██████████| 2/2 [00:00<00:00, 52.39it/s]\n",
      "100%|██████████| 2/2 [00:00<00:00, 50.73it/s]\n",
      "100%|██████████| 2/2 [00:00<00:00, 50.77it/s]\n",
      "100%|██████████| 2/2 [00:00<00:00, 51.21it/s]\n",
      "100%|██████████| 2/2 [00:00<00:00, 49.95it/s]\n",
      "100%|██████████| 2/2 [00:00<00:00, 51.25it/s]\n",
      "100%|██████████| 2/2 [00:00<00:00, 55.35it/s]\n",
      "100%|██████████| 2/2 [00:00<00:00, 55.50it/s]\n",
      "100%|██████████| 2/2 [00:00<00:00, 55.05it/s]\n",
      "100%|██████████| 2/2 [00:00<00:00, 55.86it/s]\n",
      "100%|██████████| 2/2 [00:00<00:00, 55.67it/s]\n",
      "100%|██████████| 2/2 [00:00<00:00, 55.50it/s]\n",
      "100%|██████████| 2/2 [00:00<00:00, 55.56it/s]\n",
      "100%|██████████| 2/2 [00:00<00:00, 55.37it/s]\n",
      "100%|██████████| 2/2 [00:00<00:00, 56.37it/s]\n",
      "100%|██████████| 2/2 [00:00<00:00, 56.53it/s]\n",
      "100%|██████████| 2/2 [00:00<00:00, 56.42it/s]\n",
      "100%|██████████| 2/2 [00:00<00:00, 55.03it/s]\n",
      "100%|██████████| 2/2 [00:00<00:00, 56.40it/s]\n",
      "100%|██████████| 2/2 [00:00<00:00, 56.88it/s]\n",
      "100%|██████████| 2/2 [00:00<00:00, 55.96it/s]\n",
      "100%|██████████| 2/2 [00:00<00:00, 56.56it/s]\n",
      "100%|██████████| 2/2 [00:00<00:00, 55.15it/s]\n",
      "100%|██████████| 2/2 [00:00<00:00, 55.79it/s]\n",
      "100%|██████████| 2/2 [00:00<00:00, 55.94it/s]\n",
      "100%|██████████| 2/2 [00:00<00:00, 56.08it/s]\n",
      "100%|██████████| 2/2 [00:00<00:00, 54.71it/s]\n",
      "100%|██████████| 2/2 [00:00<00:00, 55.65it/s]\n",
      "100%|██████████| 2/2 [00:00<00:00, 54.90it/s]\n",
      "100%|██████████| 2/2 [00:00<00:00, 55.94it/s]\n",
      "100%|██████████| 2/2 [00:00<00:00, 56.33it/s]\n",
      "100%|██████████| 2/2 [00:00<00:00, 56.75it/s]\n",
      "100%|██████████| 2/2 [00:00<00:00, 55.81it/s]\n",
      "100%|██████████| 2/2 [00:00<00:00, 55.80it/s]\n",
      "100%|██████████| 2/2 [00:00<00:00, 54.82it/s]\n",
      "100%|██████████| 2/2 [00:00<00:00, 53.64it/s]\n",
      "100%|██████████| 2/2 [00:00<00:00, 51.31it/s]\n",
      "100%|██████████| 2/2 [00:00<00:00, 51.50it/s]\n",
      "100%|██████████| 2/2 [00:00<00:00, 50.31it/s]\n",
      "100%|██████████| 2/2 [00:00<00:00, 50.62it/s]\n",
      "100%|██████████| 2/2 [00:00<00:00, 55.28it/s]\n",
      "100%|██████████| 2/2 [00:00<00:00, 55.92it/s]\n",
      "100%|██████████| 2/2 [00:00<00:00, 56.07it/s]\n",
      "100%|██████████| 2/2 [00:00<00:00, 55.80it/s]\n",
      "100%|██████████| 2/2 [00:00<00:00, 56.03it/s]\n",
      "100%|██████████| 2/2 [00:00<00:00, 55.81it/s]\n",
      "100%|██████████| 2/2 [00:00<00:00, 54.84it/s]\n",
      "100%|██████████| 2/2 [00:00<00:00, 55.76it/s]\n",
      "100%|██████████| 2/2 [00:00<00:00, 55.87it/s]\n",
      "100%|██████████| 2/2 [00:00<00:00, 56.36it/s]\n",
      "100%|██████████| 2/2 [00:00<00:00, 55.94it/s]\n",
      "100%|██████████| 2/2 [00:00<00:00, 56.58it/s]\n",
      "100%|██████████| 2/2 [00:00<00:00, 55.95it/s]\n",
      "100%|██████████| 2/2 [00:00<00:00, 56.38it/s]\n",
      "100%|██████████| 2/2 [00:00<00:00, 56.15it/s]\n",
      "100%|██████████| 2/2 [00:00<00:00, 56.57it/s]\n",
      "100%|██████████| 2/2 [00:00<00:00, 55.88it/s]\n",
      "100%|██████████| 2/2 [00:00<00:00, 56.75it/s]\n",
      "100%|██████████| 2/2 [00:00<00:00, 56.41it/s]\n",
      "100%|██████████| 2/2 [00:00<00:00, 55.73it/s]\n",
      "100%|██████████| 2/2 [00:00<00:00, 54.68it/s]\n",
      "100%|██████████| 2/2 [00:00<00:00, 53.90it/s]\n",
      "100%|██████████| 2/2 [00:00<00:00, 51.49it/s]\n",
      "100%|██████████| 2/2 [00:00<00:00, 49.24it/s]\n",
      "100%|██████████| 2/2 [00:00<00:00, 49.21it/s]\n",
      "100%|██████████| 2/2 [00:00<00:00, 52.70it/s]\n",
      "100%|██████████| 2/2 [00:00<00:00, 56.44it/s]\n",
      "100%|██████████| 2/2 [00:00<00:00, 57.44it/s]\n",
      "100%|██████████| 2/2 [00:00<00:00, 54.76it/s]\n",
      "100%|██████████| 2/2 [00:00<00:00, 54.36it/s]\n",
      "100%|██████████| 2/2 [00:00<00:00, 56.04it/s]\n",
      "100%|██████████| 2/2 [00:00<00:00, 56.17it/s]\n",
      "100%|██████████| 2/2 [00:00<00:00, 55.55it/s]\n",
      "100%|██████████| 2/2 [00:00<00:00, 56.20it/s]\n",
      "100%|██████████| 2/2 [00:00<00:00, 55.78it/s]\n",
      "100%|██████████| 2/2 [00:00<00:00, 56.64it/s]\n",
      "100%|██████████| 2/2 [00:00<00:00, 55.81it/s]\n",
      "100%|██████████| 2/2 [00:00<00:00, 56.01it/s]\n",
      "100%|██████████| 2/2 [00:00<00:00, 54.04it/s]\n",
      "100%|██████████| 2/2 [00:00<00:00, 55.31it/s]\n",
      "100%|██████████| 2/2 [00:00<00:00, 55.16it/s]\n",
      "100%|██████████| 2/2 [00:00<00:00, 56.30it/s]\n",
      "100%|██████████| 2/2 [00:00<00:00, 55.93it/s]\n",
      "100%|██████████| 2/2 [00:00<00:00, 56.39it/s]\n",
      "100%|██████████| 2/2 [00:00<00:00, 54.71it/s]\n",
      "100%|██████████| 2/2 [00:00<00:00, 55.51it/s]\n",
      "100%|██████████| 2/2 [00:00<00:00, 53.68it/s]\n",
      "100%|██████████| 2/2 [00:00<00:00, 53.91it/s]\n",
      "100%|██████████| 2/2 [00:00<00:00, 53.49it/s]\n",
      "100%|██████████| 2/2 [00:00<00:00, 55.25it/s]\n",
      "100%|██████████| 2/2 [00:00<00:00, 56.61it/s]\n",
      "100%|██████████| 2/2 [00:00<00:00, 57.45it/s]\n",
      "100%|██████████| 2/2 [00:00<00:00, 55.56it/s]\n",
      "100%|██████████| 2/2 [00:00<00:00, 55.90it/s]\n",
      "100%|██████████| 2/2 [00:00<00:00, 56.34it/s]\n",
      "100%|██████████| 2/2 [00:00<00:00, 56.40it/s]\n",
      "100%|██████████| 2/2 [00:00<00:00, 54.98it/s]\n",
      "100%|██████████| 2/2 [00:00<00:00, 54.81it/s]\n",
      "100%|██████████| 2/2 [00:00<00:00, 52.24it/s]\n",
      "100%|██████████| 2/2 [00:00<00:00, 52.35it/s]\n",
      "100%|██████████| 2/2 [00:00<00:00, 51.39it/s]\n",
      "100%|██████████| 2/2 [00:00<00:00, 51.75it/s]\n",
      "100%|██████████| 2/2 [00:00<00:00, 48.71it/s]\n",
      "100%|██████████| 2/2 [00:00<00:00, 52.53it/s]\n",
      "100%|██████████| 2/2 [00:00<00:00, 55.19it/s]\n",
      "100%|██████████| 2/2 [00:00<00:00, 55.31it/s]\n",
      "100%|██████████| 2/2 [00:00<00:00, 54.67it/s]\n",
      "100%|██████████| 2/2 [00:00<00:00, 55.36it/s]\n",
      "100%|██████████| 2/2 [00:00<00:00, 55.52it/s]\n",
      "100%|██████████| 2/2 [00:00<00:00, 56.39it/s]\n",
      "100%|██████████| 2/2 [00:00<00:00, 55.79it/s]\n",
      "100%|██████████| 2/2 [00:00<00:00, 56.31it/s]\n",
      "100%|██████████| 2/2 [00:00<00:00, 55.01it/s]\n",
      "100%|██████████| 2/2 [00:00<00:00, 56.18it/s]\n",
      "100%|██████████| 2/2 [00:00<00:00, 56.49it/s]\n",
      "100%|██████████| 2/2 [00:00<00:00, 56.53it/s]\n",
      "100%|██████████| 2/2 [00:00<00:00, 56.51it/s]\n",
      "100%|██████████| 2/2 [00:00<00:00, 56.35it/s]\n",
      "100%|██████████| 2/2 [00:00<00:00, 55.97it/s]\n",
      "100%|██████████| 2/2 [00:00<00:00, 56.49it/s]\n",
      "100%|██████████| 2/2 [00:00<00:00, 55.51it/s]\n",
      "100%|██████████| 2/2 [00:00<00:00, 55.70it/s]\n",
      "100%|██████████| 2/2 [00:00<00:00, 56.21it/s]\n",
      "100%|██████████| 2/2 [00:00<00:00, 57.76it/s]\n",
      "100%|██████████| 2/2 [00:00<00:00, 56.34it/s]\n",
      "100%|██████████| 2/2 [00:00<00:00, 55.20it/s]\n",
      "100%|██████████| 2/2 [00:00<00:00, 55.88it/s]\n",
      "100%|██████████| 2/2 [00:00<00:00, 56.38it/s]\n",
      "100%|██████████| 2/2 [00:00<00:00, 55.60it/s]\n",
      "100%|██████████| 2/2 [00:00<00:00, 56.67it/s]\n",
      "100%|██████████| 2/2 [00:00<00:00, 56.03it/s]\n",
      "100%|██████████| 2/2 [00:00<00:00, 56.24it/s]\n",
      "100%|██████████| 2/2 [00:00<00:00, 56.03it/s]\n",
      "100%|██████████| 2/2 [00:00<00:00, 56.19it/s]\n",
      "100%|██████████| 2/2 [00:00<00:00, 55.71it/s]\n",
      "100%|██████████| 2/2 [00:00<00:00, 55.26it/s]\n",
      "100%|██████████| 2/2 [00:00<00:00, 55.43it/s]\n",
      "100%|██████████| 2/2 [00:00<00:00, 54.96it/s]\n",
      "100%|██████████| 2/2 [00:00<00:00, 56.21it/s]\n",
      "100%|██████████| 2/2 [00:00<00:00, 56.43it/s]\n",
      "100%|██████████| 2/2 [00:00<00:00, 55.89it/s]\n",
      "100%|██████████| 2/2 [00:00<00:00, 56.00it/s]\n",
      "100%|██████████| 2/2 [00:00<00:00, 56.48it/s]\n",
      "100%|██████████| 2/2 [00:00<00:00, 55.31it/s]\n",
      "100%|██████████| 2/2 [00:00<00:00, 55.56it/s]\n",
      "100%|██████████| 2/2 [00:00<00:00, 55.28it/s]\n",
      "100%|██████████| 2/2 [00:00<00:00, 56.13it/s]\n",
      "100%|██████████| 2/2 [00:00<00:00, 56.04it/s]\n"
     ]
    }
   ],
   "source": [
    "for idx_video in range(10):\n",
    "    for idx_frame in range(8):\n",
    "        frame_path_no_w = f'{args.orig_img_no_w_path}/sent{idx_video}_frames/frame{idx_frame}.jpg'\n",
    "        frame_path_w = f'{args.orig_img_w_path}/sent{idx_video}_frames/frame{idx_frame}.jpg'\n",
    "\n",
    "        img_no_w = Image.open(frame_path_no_w)\n",
    "        img_w = Image.open(frame_path_w)\n",
    "        img_no_w = transform_img(img_no_w).unsqueeze(0).to(text_embeddings.dtype).to(device)\n",
    "        img_w = transform_img(img_w).unsqueeze(0).to(text_embeddings.dtype).to(device)\n",
    "\n",
    "        image_latents_no_w = pipe.get_image_latents(img_no_w, sample=False)\n",
    "        image_latents_w = pipe.get_image_latents(img_w, sample=False)\n",
    "\n",
    "        reversed_latents_no_w = pipe.forward_diffusion(\n",
    "        latents=image_latents_no_w,\n",
    "        text_embeddings=text_embeddings,\n",
    "        guidance_scale=1,\n",
    "        num_inference_steps=2,\n",
    "        )\n",
    "\n",
    "        reversed_latents_w = pipe.forward_diffusion(\n",
    "        latents=image_latents_w,\n",
    "        text_embeddings=text_embeddings,\n",
    "        guidance_scale=1,\n",
    "        num_inference_steps=2,\n",
    "        )\n",
    "\n",
    "        no_w_metric, w_metric = eval_watermark(reversed_latents_no_w, reversed_latents_w, watermarking_mask, gt_patch, args)\n",
    "        no_w_metrics.append(-no_w_metric)\n",
    "        w_metrics.append(-w_metric)"
   ]
  },
  {
   "cell_type": "code",
   "execution_count": 7,
   "metadata": {},
   "outputs": [
    {
     "name": "stdout",
     "output_type": "stream",
     "text": [
      "0.5\n"
     ]
    }
   ],
   "source": [
    "preds = no_w_metrics +  w_metrics\n",
    "t_labels = [0] * len(no_w_metrics) + [1] * len(w_metrics)\n",
    "fpr, tpr, thresholds = metrics.roc_curve(t_labels, preds, pos_label=1)\n",
    "auc = metrics.auc(fpr, tpr)\n",
    "acc = np.max(1 - (fpr + (1 - tpr))/2)\n",
    "low = tpr[np.where(fpr<.01)[0][-1]]\n",
    "print(acc)"
   ]
  },
  {
   "cell_type": "code",
   "execution_count": 8,
   "metadata": {},
   "outputs": [],
   "source": [
    "# 分割原始列表，每8个元素为一组\n",
    "split_lists_no = [no_w_metrics[i:i+8] for i in range(0, len(no_w_metrics), 8)]\n",
    "\n",
    "# 计算每组的平均值\n",
    "average_values_no = [sum(sub_list) / len(sub_list) for sub_list in split_lists_no]\n",
    "\n",
    "# 分割原始列表，每8个元素为一组\n",
    "split_lists_w = [w_metrics[i:i+8] for i in range(0, len(w_metrics), 8)]\n",
    "\n",
    "# 计算每组的平均值\n",
    "average_values_w = [sum(sub_list) / len(sub_list) for sub_list in split_lists_w]"
   ]
  },
  {
   "cell_type": "code",
   "execution_count": 9,
   "metadata": {},
   "outputs": [
    {
     "name": "stdout",
     "output_type": "stream",
     "text": [
      "0.5\n"
     ]
    }
   ],
   "source": [
    "preds = average_values_no +  average_values_w\n",
    "t_labels = [0] * len(average_values_no) + [1] * len(average_values_w)\n",
    "fpr, tpr, thresholds = metrics.roc_curve(t_labels, preds, pos_label=1)\n",
    "auc = metrics.auc(fpr, tpr)\n",
    "acc = np.max(1 - (fpr + (1 - tpr))/2)\n",
    "low = tpr[np.where(fpr<.01)[0][-1]]\n",
    "print(acc)"
   ]
  },
  {
   "cell_type": "code",
   "execution_count": 10,
   "metadata": {},
   "outputs": [
    {
     "data": {
      "image/png": "[encoded data removed]",
      "text/plain": [
       "<Figure size 800x800 with 1 Axes>"
      ]
     },
     "metadata": {},
     "output_type": "display_data"
    }
   ],
   "source": [
    "import matplotlib.pyplot as plt\n",
    "\n",
    "# Plot ROC curve\n",
    "plt.figure(figsize=(8, 8))\n",
    "plt.plot(fpr, tpr, color='darkorange', lw=2, label=f'AUC = {auc:.2f}')\n",
    "plt.plot([0, 1], [0, 1], color='navy', lw=2, linestyle='--')\n",
    "plt.xlim([0.0, 1.0])\n",
    "plt.ylim([0.0, 1.05])\n",
    "plt.xlabel('False Positive Rate (FPR)')\n",
    "plt.ylabel('True Positive Rate (TPR)')\n",
    "plt.title('Receiver Operating Characteristic (ROC) Curve')\n",
    "plt.legend(loc='lower right')\n",
    "plt.show()"
   ]
  }
 ],
 "metadata": {
  "kernelspec": {
   "display_name": "integrate",
   "language": "python",
   "name": "python3"
  },
  "language_info": {
   "codemirror_mode": {
    "name": "ipython",
    "version": 3
   },
   "file_extension": ".py",
   "mimetype": "text/x-python",
   "name": "python",
   "nbconvert_exporter": "python",
   "pygments_lexer": "ipython3",
   "version": "3.9.18"
  }
 },
 "nbformat": 4,
 "nbformat_minor": 2
}
